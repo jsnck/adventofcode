{
 "cells": [
  {
   "cell_type": "markdown",
   "metadata": {},
   "source": [
    "# Imports and Data"
   ]
  },
  {
   "cell_type": "code",
   "execution_count": 1,
   "metadata": {},
   "outputs": [],
   "source": [
    "import aocd\n",
    "import re\n",
    "\n",
    "data = aocd.get_data(day=6, year=2015)\n",
    "data = data.split('\\n')"
   ]
  },
  {
   "cell_type": "markdown",
   "metadata": {},
   "source": [
    "# Part 1"
   ]
  },
  {
   "cell_type": "markdown",
   "metadata": {},
   "source": [
    "--- Day 6: Probably a Fire Hazard ---\n",
    "\n",
    "Because your neighbors keep defeating you in the holiday house decorating contest year after year, you've decided to deploy one million lights in a 1000x1000 grid.\n",
    "\n",
    "Furthermore, because you've been especially nice this year, Santa has mailed you instructions on how to display the ideal lighting configuration.\n",
    "\n",
    "Lights in your grid are numbered from 0 to 999 in each direction; the lights at each corner are at 0,0, 0,999, 999,999, and 999,0. The instructions include whether to turn on, turn off, or toggle various inclusive ranges given as coordinate pairs. Each coordinate pair represents opposite corners of a rectangle, inclusive; a coordinate pair like 0,0 through 2,2 therefore refers to 9 lights in a 3x3 square. The lights all start turned off.\n",
    "\n",
    "To defeat your neighbors this year, all you have to do is set up your lights by doing the instructions Santa sent you in order.\n",
    "\n",
    "For example:\n",
    "\n",
    "    turn on 0,0 through 999,999 would turn on (or leave on) every light.\n",
    "    toggle 0,0 through 999,0 would toggle the first line of 1000 lights, turning off the ones that were on, and turning on the ones that were off.\n",
    "    turn off 499,499 through 500,500 would turn off (or leave off) the middle four lights.\n",
    "\n",
    "After following the instructions, how many lights are lit?\n"
   ]
  },
  {
   "cell_type": "code",
   "execution_count": 2,
   "metadata": {},
   "outputs": [
    {
     "name": "stdout",
     "output_type": "stream",
     "text": [
      "Part 1:  377891\n"
     ]
    }
   ],
   "source": [
    "width, height = 1000, 1000\n",
    "lightsGrid = [[0 for x in range(width)] for y in range(height)] \n",
    "lightsTurnedOn = 0\n",
    "\n",
    "for line in data:\n",
    "   \n",
    "    #get x,y values and calculate distance\n",
    "    matches = re.findall(r'\\d+', line)\n",
    "\n",
    "    x1 = int(matches[0])\n",
    "    y1 = int(matches[1])\n",
    "    x2 = int(matches[2])\n",
    "    y2 = int(matches[3])\n",
    "\n",
    "    xSteps = x2-x1+1\n",
    "    ySteps = y2-y1+1\n",
    "\n",
    "    #loop through distance and handle instruction\n",
    "    for i in range (xSteps):\n",
    "        for j in range(ySteps):\n",
    "            #turn on\n",
    "            if \"on\" in line:\n",
    "                lightsGrid[x1+i][y1+j] = 1\n",
    "            #turn of\n",
    "            elif \"off\" in line:\n",
    "                lightsGrid[x1+i][y1+j] = 0\n",
    "            #toggle\n",
    "            elif \"toggle\" in line:\n",
    "                if lightsGrid[x1+i][y1+j] == 1:\n",
    "                    lightsGrid[x1+i][y1+j] = 0\n",
    "                else:\n",
    "                    lightsGrid[x1+i][y1+j] = 1\n",
    "\n",
    "#count activated lights\n",
    "for i in range(height):\n",
    "    lightsTurnedOn += lightsGrid[i].count(1)\n",
    "\n",
    "print(\"Part 1: \", lightsTurnedOn)"
   ]
  },
  {
   "cell_type": "markdown",
   "metadata": {},
   "source": [
    "# Part 2"
   ]
  },
  {
   "cell_type": "markdown",
   "metadata": {},
   "source": [
    "--- Part Two ---\n",
    "\n",
    "You just finish implementing your winning light pattern when you realize you mistranslated Santa's message from Ancient Nordic Elvish.\n",
    "\n",
    "The light grid you bought actually has individual brightness controls; each light can have a brightness of zero or more. The lights all start at zero.\n",
    "\n",
    "The phrase turn on actually means that you should increase the brightness of those lights by 1.\n",
    "\n",
    "The phrase turn off actually means that you should decrease the brightness of those lights by 1, to a minimum of zero.\n",
    "\n",
    "The phrase toggle actually means that you should increase the brightness of those lights by 2.\n",
    "\n",
    "What is the total brightness of all lights combined after following Santa's instructions?\n",
    "\n",
    "For example:\n",
    "\n",
    "    turn on 0,0 through 0,0 would increase the total brightness by 1.\n",
    "    toggle 0,0 through 999,999 would increase the total brightness by 2000000.\n",
    "\n"
   ]
  },
  {
   "cell_type": "code",
   "execution_count": 3,
   "metadata": {},
   "outputs": [
    {
     "name": "stdout",
     "output_type": "stream",
     "text": [
      "Part 2:  14110788\n"
     ]
    }
   ],
   "source": [
    "width, height = 1000, 1000\n",
    "lightsGrid = [[0 for x in range(width)] for y in range(height)] \n",
    "brightness = 0\n",
    "\n",
    "for line in data:\n",
    "   \n",
    "    #get x,y values and calculate distance\n",
    "    matches = re.findall(r'\\d+', line)\n",
    "\n",
    "    x1 = int(matches[0])\n",
    "    y1 = int(matches[1])\n",
    "    x2 = int(matches[2])\n",
    "    y2 = int(matches[3])\n",
    "\n",
    "    xSteps = x2-x1+1\n",
    "    ySteps = y2-y1+1\n",
    "\n",
    "    #loop through distance and handle instruction\n",
    "    for i in range (xSteps):\n",
    "        for j in range(ySteps):\n",
    "            #turn on\n",
    "            if \"on\" in line:\n",
    "                lightsGrid[x1+i][y1+j] += 1\n",
    "            #turn of\n",
    "            elif \"off\" in line:\n",
    "                if lightsGrid[x1+i][y1+j] > 0:\n",
    "                    lightsGrid[x1+i][y1+j] -= 1\n",
    "            #toggle\n",
    "            elif \"toggle\" in line:\n",
    "                lightsGrid[x1+i][y1+j] += 2\n",
    "\n",
    "#calculate total brightness\n",
    "for i in range(height):\n",
    "    for j in range(width):\n",
    "        brightness += lightsGrid[i][j]\n",
    "\n",
    "print(\"Part 2: \", brightness)"
   ]
  },
  {
   "cell_type": "code",
   "execution_count": null,
   "metadata": {},
   "outputs": [],
   "source": []
  }
 ],
 "metadata": {
  "kernelspec": {
   "display_name": ".venv",
   "language": "python",
   "name": "python3"
  },
  "language_info": {
   "codemirror_mode": {
    "name": "ipython",
    "version": 3
   },
   "file_extension": ".py",
   "mimetype": "text/x-python",
   "name": "python",
   "nbconvert_exporter": "python",
   "pygments_lexer": "ipython3",
   "version": "3.12.3"
  }
 },
 "nbformat": 4,
 "nbformat_minor": 2
}
