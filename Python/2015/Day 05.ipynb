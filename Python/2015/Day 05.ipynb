{
 "cells": [
  {
   "cell_type": "markdown",
   "metadata": {},
   "source": [
    "# Imports and Data"
   ]
  },
  {
   "cell_type": "code",
   "execution_count": 2,
   "metadata": {},
   "outputs": [],
   "source": [
    "import aocd\n",
    "\n",
    "data = aocd.get_data(day=5, year=2015)\n",
    "data = data.split('\\n')"
   ]
  },
  {
   "cell_type": "markdown",
   "metadata": {},
   "source": [
    "# Part 1"
   ]
  },
  {
   "cell_type": "markdown",
   "metadata": {},
   "source": [
    "--- Day 5: Doesn't He Have Intern-Elves For This? ---\n",
    "\n",
    "Santa needs help figuring out which strings in his text file are naughty or nice.\n",
    "\n",
    "A nice string is one with all of the following properties:\n",
    "\n",
    "    It contains at least three vowels (aeiou only), like aei, xazegov, or aeiouaeiouaeiou.\n",
    "    It contains at least one letter that appears twice in a row, like xx, abcdde (dd), or aabbccdd (aa, bb, cc, or dd).\n",
    "    It does not contain the strings ab, cd, pq, or xy, even if they are part of one of the other requirements.\n",
    "\n",
    "For example:\n",
    "\n",
    "    ugknbfddgicrmopn is nice because it has at least three vowels (u...i...o...), a double letter (...dd...), and none of the disallowed substrings.\n",
    "    aaa is nice because it has at least three vowels and a double letter, even though the letters used by different rules overlap.\n",
    "    jchzalrnumimnmhp is naughty because it has no double letter.\n",
    "    haegwjzuvuyypxyu is naughty because it contains the string xy.\n",
    "    dvszwmarrgswjxmb is naughty because it contains only one vowel.\n",
    "\n",
    "How many strings are nice?\n"
   ]
  },
  {
   "cell_type": "code",
   "execution_count": 3,
   "metadata": {},
   "outputs": [
    {
     "name": "stdout",
     "output_type": "stream",
     "text": [
      "Part 1:  236\n"
     ]
    }
   ],
   "source": [
    "niceStrings = 0\n",
    "\n",
    "for line in data:\n",
    "    #at least one double\n",
    "    doubleValue = False\n",
    "    previousChar = \"\"\n",
    "    #at least three vowels (a,e,i,o,u)\n",
    "    vowels = 0\n",
    "    #none of the forbidden strings\n",
    "    forbiddenStrings = [\"ab\",\"cd\",\"pq\",\"xy\"]\n",
    "\n",
    "    if not any(x in line for x in forbiddenStrings):\n",
    "        for char in line:\n",
    "            if char == \"a\" or char == \"e\" or char == \"i\" or char == \"o\" or char == \"u\":\n",
    "                vowels += 1\n",
    "            if char == previousChar:\n",
    "                doubleValue = True\n",
    "            \n",
    "            previousChar = char\n",
    "\n",
    "            if vowels >= 3 and doubleValue == True:\n",
    "                niceStrings += 1\n",
    "                break\n",
    "\n",
    "print(\"Part 1: \", niceStrings)\n",
    "            "
   ]
  },
  {
   "cell_type": "markdown",
   "metadata": {},
   "source": [
    "# Part 2"
   ]
  },
  {
   "cell_type": "markdown",
   "metadata": {},
   "source": [
    "--- Part Two ---\n",
    "\n",
    "Realizing the error of his ways, Santa has switched to a better model of determining whether a string is naughty or nice. None of the old rules apply, as they are all clearly ridiculous.\n",
    "\n",
    "Now, a nice string is one with all of the following properties:\n",
    "\n",
    "    It contains a pair of any two letters that appears at least twice in the string without overlapping, like xyxy (xy) or aabcdefgaa (aa), but not like aaa (aa, but it overlaps).\n",
    "    It contains at least one letter which repeats with exactly one letter between them, like xyx, abcdefeghi (efe), or even aaa.\n",
    "\n",
    "For example:\n",
    "\n",
    "    qjhvhtzxzqqjkmpb is nice because is has a pair that appears twice (qj) and a letter that repeats with exactly one letter between them (zxz).\n",
    "    xxyxx is nice because it has a pair that appears twice and a letter that repeats with one between, even though the letters used by each rule overlap.\n",
    "    uurcxstgmygtbstg is naughty because it has a pair (tg) but no repeat with a single letter between them.\n",
    "    ieodomkazucvgmuy is naughty because it has a repeating letter with one between (odo), but no pair that appears twice.\n",
    "\n",
    "How many strings are nice under these new rules?\n"
   ]
  },
  {
   "cell_type": "code",
   "execution_count": 4,
   "metadata": {},
   "outputs": [
    {
     "name": "stdout",
     "output_type": "stream",
     "text": [
      "Part 2:  51\n"
     ]
    }
   ],
   "source": [
    "niceStrings = 0\n",
    "\n",
    "for line in data:\n",
    "    counter = 0\n",
    "    #pair of letters appearing at least twice\n",
    "    pair = False\n",
    "    #repeating letter with one letter in between\n",
    "    repeatedLetter = False\n",
    "\n",
    "    if len(line) > 3:\n",
    "        for char in line:\n",
    "            #pair of letters appearing at least twice\n",
    "            currentPair = line[counter: counter+2]\n",
    "            if pair == False:\n",
    "                #left\n",
    "                #print(line[:counter])\n",
    "                #right\n",
    "                #print(line[counter+2:])\n",
    "                if len(currentPair) == 2:\n",
    "                    if currentPair in line[:counter] or currentPair in line[counter+2:]:\n",
    "                        pair = True\n",
    "\n",
    "            #repeating letter with one letter in between\n",
    "            if repeatedLetter == False:\n",
    "                if counter <= len(line)-3:\n",
    "                    if char == line[counter+2: counter+3]:\n",
    "                        repeatedLetter = True\n",
    "\n",
    "            counter += 1\n",
    "\n",
    "            if pair == True and repeatedLetter == True:\n",
    "                niceStrings += 1\n",
    "                break\n",
    "\n",
    "print(\"Part 2: \", niceStrings)"
   ]
  },
  {
   "cell_type": "code",
   "execution_count": null,
   "metadata": {},
   "outputs": [],
   "source": []
  }
 ],
 "metadata": {
  "kernelspec": {
   "display_name": ".venv",
   "language": "python",
   "name": "python3"
  },
  "language_info": {
   "codemirror_mode": {
    "name": "ipython",
    "version": 3
   },
   "file_extension": ".py",
   "mimetype": "text/x-python",
   "name": "python",
   "nbconvert_exporter": "python",
   "pygments_lexer": "ipython3",
   "version": "3.12.3"
  }
 },
 "nbformat": 4,
 "nbformat_minor": 2
}
