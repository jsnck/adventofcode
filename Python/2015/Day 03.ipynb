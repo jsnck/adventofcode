{
 "cells": [
  {
   "cell_type": "markdown",
   "metadata": {},
   "source": [
    "# Imports and Data"
   ]
  },
  {
   "cell_type": "code",
   "execution_count": 1,
   "metadata": {},
   "outputs": [],
   "source": [
    "import aocd\n",
    "\n",
    "data = aocd.get_data(day=3, year=2015)"
   ]
  },
  {
   "cell_type": "markdown",
   "metadata": {},
   "source": [
    "# Part 1"
   ]
  },
  {
   "cell_type": "markdown",
   "metadata": {},
   "source": [
    "--- Day 3: Perfectly Spherical Houses in a Vacuum ---\n",
    "\n",
    "Santa is delivering presents to an infinite two-dimensional grid of houses.\n",
    "\n",
    "He begins by delivering a present to the house at his starting location, and then an elf at the North Pole calls him via radio and tells him where to move next. Moves are always exactly one house to the north (^), south (v), east (>), or west (<). After each move, he delivers another present to the house at his new location.\n",
    "\n",
    "However, the elf back at the north pole has had a little too much eggnog, and so his directions are a little off, and Santa ends up visiting some houses more than once. How many houses receive at least one present?\n",
    "\n",
    "For example:\n",
    "\n",
    "    > delivers presents to 2 houses: one at the starting location, and one to the east.\n",
    "    ^>v< delivers presents to 4 houses in a square, including twice to the house at his starting/ending location.\n",
    "    ^v^v^v^v^v delivers a bunch of presents to some very lucky children at only 2 houses.\n",
    "\n"
   ]
  },
  {
   "cell_type": "code",
   "execution_count": 2,
   "metadata": {},
   "outputs": [
    {
     "name": "stdout",
     "output_type": "stream",
     "text": [
      "Part 1:  2592\n"
     ]
    }
   ],
   "source": [
    "x = 0\n",
    "y = 0\n",
    "\n",
    "#tuple with start location\n",
    "houses = [(0,0)]\n",
    "\n",
    "for direction in data:\n",
    "    if direction == '>':\n",
    "        y += 1\n",
    "    elif direction == '<':\n",
    "        y -= 1\n",
    "    elif direction == '^':\n",
    "        x += 1\n",
    "    elif direction == 'v':\n",
    "        x -= 1\n",
    "    \n",
    "    houses.append((x,y))\n",
    "\n",
    "#filter duplicates\n",
    "houses = list(dict.fromkeys(houses))\n",
    "\n",
    "print(\"Part 1: \", len(houses))\n"
   ]
  },
  {
   "cell_type": "markdown",
   "metadata": {},
   "source": [
    "# Part 2"
   ]
  },
  {
   "cell_type": "markdown",
   "metadata": {},
   "source": [
    "The next year, to speed up the process, Santa creates a robot version of himself, Robo-Santa, to deliver presents with him.\n",
    "\n",
    "Santa and Robo-Santa start at the same location (delivering two presents to the same starting house), then take turns moving based on instructions from the elf, who is eggnoggedly reading from the same script as the previous year.\n",
    "\n",
    "This year, how many houses receive at least one present?\n",
    "\n",
    "For example:\n",
    "\n",
    "    ^v delivers presents to 3 houses, because Santa goes north, and then Robo-Santa goes south.\n",
    "    ^>v< now delivers presents to 3 houses, and Santa and Robo-Santa end up back where they started.\n",
    "    ^v^v^v^v^v now delivers presents to 11 houses, with Santa going one direction and Robo-Santa going the other.\n"
   ]
  },
  {
   "cell_type": "code",
   "execution_count": 3,
   "metadata": {},
   "outputs": [
    {
     "name": "stdout",
     "output_type": "stream",
     "text": [
      "Part 2:  2360\n"
     ]
    }
   ],
   "source": [
    "x = 0\n",
    "y = 0\n",
    "xS = 0\n",
    "yS = 0\n",
    "xR = 0\n",
    "yR = 0\n",
    "\n",
    "counter = 0\n",
    "\n",
    "#tuple with start location\n",
    "houses = [(0,0)]\n",
    "\n",
    "for direction in data:\n",
    "\n",
    "    #Santa\n",
    "    if counter%2 == 0:\n",
    "        x = xS\n",
    "        y = yS\n",
    "    #Robo\n",
    "    else:\n",
    "        x = xR\n",
    "        y = yR\n",
    "\n",
    "    #move\n",
    "    if direction == '>':\n",
    "        y += 1\n",
    "    elif direction == '<':\n",
    "        y -= 1\n",
    "    elif direction == '^':\n",
    "        x += 1\n",
    "    elif direction == 'v':\n",
    "        x -= 1\n",
    "    \n",
    "    houses.append((x,y))\n",
    "\n",
    "    #set new position\n",
    "    #Santa\n",
    "    if counter%2 == 0:\n",
    "        xS = x\n",
    "        yS = y\n",
    "    #Robo\n",
    "    else:\n",
    "        xR = x\n",
    "        yR = y\n",
    "\n",
    "    counter+=1\n",
    "\n",
    "#filter duplicates\n",
    "houses = list(dict.fromkeys(houses))\n",
    "\n",
    "print(\"Part 2: \", len(houses))\n"
   ]
  },
  {
   "cell_type": "code",
   "execution_count": null,
   "metadata": {},
   "outputs": [],
   "source": []
  }
 ],
 "metadata": {
  "kernelspec": {
   "display_name": ".venv",
   "language": "python",
   "name": "python3"
  },
  "language_info": {
   "codemirror_mode": {
    "name": "ipython",
    "version": 3
   },
   "file_extension": ".py",
   "mimetype": "text/x-python",
   "name": "python",
   "nbconvert_exporter": "python",
   "pygments_lexer": "ipython3",
   "version": "3.12.3"
  }
 },
 "nbformat": 4,
 "nbformat_minor": 2
}
