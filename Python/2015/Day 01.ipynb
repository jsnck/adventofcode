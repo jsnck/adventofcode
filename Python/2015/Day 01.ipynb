{
 "cells": [
  {
   "cell_type": "markdown",
   "metadata": {},
   "source": [
    "# Imports and Data"
   ]
  },
  {
   "cell_type": "code",
   "execution_count": 2,
   "metadata": {},
   "outputs": [],
   "source": [
    "import aocd\n",
    "\n",
    "data = aocd.get_data(day=1, year=2015)"
   ]
  },
  {
   "cell_type": "markdown",
   "metadata": {},
   "source": [
    "# Part 1"
   ]
  },
  {
   "cell_type": "markdown",
   "metadata": {},
   "source": [
    "--- Day 1: Not Quite Lisp ---\n",
    "\n",
    "Santa was hoping for a white Christmas, but his weather machine's \"snow\" function is powered by stars, and he's fresh out! To save Christmas, he needs you to collect fifty stars by December 25th.\n",
    "\n",
    "Collect stars by helping Santa solve puzzles. Two puzzles will be made available on each day in the Advent calendar; the second puzzle is unlocked when you complete the first. Each puzzle grants one star. Good luck!\n",
    "\n",
    "Here's an easy puzzle to warm you up.\n",
    "\n",
    "Santa is trying to deliver presents in a large apartment building, but he can't find the right floor - the directions he got are a little confusing. He starts on the ground floor (floor 0) and then follows the instructions one character at a time.\n",
    "\n",
    "An opening parenthesis, (, means he should go up one floor, and a closing parenthesis, ), means he should go down one floor.\n",
    "\n",
    "The apartment building is very tall, and the basement is very deep; he will never find the top or bottom floors.\n",
    "\n",
    "For example:\n",
    "\n",
    "    (()) and ()() both result in floor 0.\n",
    "    ((( and (()(()( both result in floor 3.\n",
    "    ))((((( also results in floor 3.\n",
    "    ()) and ))( both result in floor -1 (the first basement level).\n",
    "    ))) and )())()) both result in floor -3.\n",
    "\n",
    "To what floor do the instructions take Santa?\n"
   ]
  },
  {
   "cell_type": "code",
   "execution_count": 3,
   "metadata": {},
   "outputs": [
    {
     "name": "stdout",
     "output_type": "stream",
     "text": [
      "Part 1:  232\n"
     ]
    }
   ],
   "source": [
    "floor = 0\n",
    "\n",
    "for letter in data:\n",
    "    if letter == \"(\":\n",
    "        floor += 1\n",
    "    else:\n",
    "        floor -= 1\n",
    "\n",
    "print(\"Part 1: \", floor)"
   ]
  },
  {
   "cell_type": "markdown",
   "metadata": {},
   "source": [
    "# Part 2"
   ]
  },
  {
   "cell_type": "markdown",
   "metadata": {},
   "source": [
    "Now, given the same instructions, find the position of the first character that causes him to enter the basement (floor -1). The first character in the instructions has position 1, the second character has position 2, and so on.\n",
    "\n",
    "For example:\n",
    "\n",
    "    ) causes him to enter the basement at character position 1.\n",
    "    ()()) causes him to enter the basement at character position 5.\n",
    "\n",
    "What is the position of the character that causes Santa to first enter the basement?"
   ]
  },
  {
   "cell_type": "code",
   "execution_count": 4,
   "metadata": {},
   "outputs": [
    {
     "name": "stdout",
     "output_type": "stream",
     "text": [
      "Part 2:  1783\n"
     ]
    }
   ],
   "source": [
    "floor = 0\n",
    "position = 0\n",
    "\n",
    "for letter in data:\n",
    "    if letter == \"(\":\n",
    "        floor += 1\n",
    "    else:\n",
    "        floor -= 1\n",
    "    \n",
    "    position += 1\n",
    "\n",
    "    if floor == -1:\n",
    "        break\n",
    "\n",
    "print(\"Part 2: \", position)"
   ]
  },
  {
   "cell_type": "code",
   "execution_count": null,
   "metadata": {},
   "outputs": [],
   "source": []
  }
 ],
 "metadata": {
  "kernelspec": {
   "display_name": ".venv",
   "language": "python",
   "name": "python3"
  },
  "language_info": {
   "codemirror_mode": {
    "name": "ipython",
    "version": 3
   },
   "file_extension": ".py",
   "mimetype": "text/x-python",
   "name": "python",
   "nbconvert_exporter": "python",
   "pygments_lexer": "ipython3",
   "version": "3.12.3"
  }
 },
 "nbformat": 4,
 "nbformat_minor": 2
}
