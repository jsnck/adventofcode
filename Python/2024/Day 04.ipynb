{
 "cells": [
  {
   "cell_type": "code",
   "execution_count": 2,
   "metadata": {},
   "outputs": [],
   "source": [
    "import aocd\n",
    "import regex\n",
    "\n",
    "#data = aocd.get_data(day=4, year=2024)\n",
    "data = \"MMMSXXMASM\\nMSAMXMSMSA\\nAMXSXMAAMM\\nMSAMASMSMX\\nXMASAMXAMM\\nXXAMMXXAMA\\nSMSMSASXSS\\nSAXAMASAAA\\nMAMMMXMMMM\\nMXMXAXMASX\"\n",
    "\n",
    "data = data.split('\\n')"
   ]
  },
  {
   "cell_type": "markdown",
   "metadata": {},
   "source": [
    "# Part 1"
   ]
  },
  {
   "cell_type": "code",
   "execution_count": 60,
   "metadata": {},
   "outputs": [
    {
     "name": "stdout",
     "output_type": "stream",
     "text": [
      "['MMMSXXMASM', 'MSAMXMSMSA', 'AMXSXMAAMM', 'MSAMASMSMX', 'XMASAMXAMM', 'XXAMMXXAMA', 'SMSMSASXSS', 'SAXAMASAAA', 'MAMMMXMMMM', 'MXMXAXMASX']\n",
      "MMAMXXSSMM\n",
      "MSMSMXMAAX\n",
      "MAXAAASXMM\n",
      "SMSMSMMAMX\n",
      "XXXAAMSMMA\n",
      "XMMSMXAAXX\n",
      "MSAMXXSSMM\n",
      "AMASAAXAMA\n",
      "SSMMMMSAMS\n",
      "MAMXMASAMX\n"
     ]
    },
    {
     "ename": "IndexError",
     "evalue": "string index out of range",
     "output_type": "error",
     "traceback": [
      "\u001b[1;31m---------------------------------------------------------------------------\u001b[0m",
      "\u001b[1;31mIndexError\u001b[0m                                Traceback (most recent call last)",
      "Cell \u001b[1;32mIn[60], line 34\u001b[0m\n\u001b[0;32m     31\u001b[0m     diagonalString \u001b[38;5;241m=\u001b[39m \u001b[38;5;124m\"\u001b[39m\u001b[38;5;124m\"\u001b[39m\n\u001b[0;32m     33\u001b[0m     \u001b[38;5;28;01mfor\u001b[39;00m j \u001b[38;5;129;01min\u001b[39;00m \u001b[38;5;28mrange\u001b[39m(\u001b[38;5;28mlen\u001b[39m(data[\u001b[38;5;241m0\u001b[39m])):\n\u001b[1;32m---> 34\u001b[0m         diagonalString \u001b[38;5;241m+\u001b[39m\u001b[38;5;241m=\u001b[39m \u001b[43mdata\u001b[49m\u001b[43m[\u001b[49m\u001b[43mj\u001b[49m\u001b[43m]\u001b[49m\u001b[43m[\u001b[49m\u001b[43mi\u001b[49m\u001b[43m]\u001b[49m\n\u001b[0;32m     36\u001b[0m     \u001b[38;5;28mprint\u001b[39m(diagonalString)\n\u001b[0;32m     38\u001b[0m \u001b[38;5;66;03m#diagonal\u001b[39;00m\n\u001b[0;32m     39\u001b[0m \u001b[38;5;66;03m#line = list(data[i])\u001b[39;00m\n\u001b[0;32m     40\u001b[0m \u001b[38;5;66;03m#print(line)\u001b[39;00m\n\u001b[0;32m     41\u001b[0m \n\u001b[0;32m     42\u001b[0m \u001b[38;5;66;03m#for j in range(len(data[i])-1):\u001b[39;00m\n\u001b[0;32m     43\u001b[0m \u001b[38;5;66;03m#    print(data[i+j][j+1])\u001b[39;00m\n",
      "\u001b[1;31mIndexError\u001b[0m: string index out of range"
     ]
    }
   ],
   "source": [
    "# get all horizontal lines\n",
    "# get all vertical lines\n",
    "# get all diagonal lines\n",
    "\n",
    "# create of each line one string\n",
    "#check each line for xmas and smax\n",
    "\n",
    "xmasCounter = 0\n",
    "\n",
    "# regex\n",
    "pattern = r\"XMAS|SAMX\"\n",
    "\n",
    "print(data)\n",
    "for i in range(len(data)):\n",
    "\n",
    "    verticalString = \"\"\n",
    "\n",
    "    # horizontal\n",
    "    matches = regex.findall(pattern, data[i], overlapped=True)\n",
    "    xmasCounter += len(matches)\n",
    "\n",
    "    #vertical\n",
    "    for j in range(len(data[i])):\n",
    "        verticalString += data[j][i]   \n",
    "    matches = regex.findall(pattern, verticalString)\n",
    "    xmasCounter += len(matches)\n",
    "\n",
    "\n",
    "\n",
    "for i in range(len(data)*2-1):\n",
    "    diagonalString = \"\"\n",
    "    \n",
    "    for j in range(len(data[0])):\n",
    "        diagonalString += data[j][i]\n",
    "    \n",
    "    print(diagonalString)\n",
    "\n",
    "#diagonal\n",
    "#line = list(data[i])\n",
    "#print(line)\n",
    "\n",
    "#for j in range(len(data[i])-1):\n",
    "#    print(data[i+j][j+1])\n",
    "        \n",
    "    \n",
    "\n",
    "print(\"Part 1: \", xmasCounter)\n"
   ]
  },
  {
   "cell_type": "code",
   "execution_count": null,
   "metadata": {},
   "outputs": [],
   "source": []
  }
 ],
 "metadata": {
  "kernelspec": {
   "display_name": ".venv",
   "language": "python",
   "name": "python3"
  },
  "language_info": {
   "codemirror_mode": {
    "name": "ipython",
    "version": 3
   },
   "file_extension": ".py",
   "mimetype": "text/x-python",
   "name": "python",
   "nbconvert_exporter": "python",
   "pygments_lexer": "ipython3",
   "version": "3.12.3"
  }
 },
 "nbformat": 4,
 "nbformat_minor": 2
}
