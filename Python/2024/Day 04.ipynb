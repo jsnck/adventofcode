{
 "cells": [
  {
   "cell_type": "code",
   "execution_count": 357,
   "metadata": {},
   "outputs": [],
   "source": [
    "import aocd\n",
    "import regex\n",
    "\n",
    "data = aocd.get_data(day=4, year=2024)\n",
    "#data = \"MMMSXXMASM\\nMSAMXMSMSA\\nAMXSXMAAMM\\nMSAMASMSMX\\nXMASAMXAMM\\nXXAMMXXAMA\\nSMSMSASXSS\\nSAXAMASAAA\\nMAMMMXMMMM\\nMXMXAXMASX\"\n",
    "#data =\"ABCD\\nABCD\\nABCD\\nABCD\"\n",
    "\n",
    "data = data.split('\\n')"
   ]
  },
  {
   "cell_type": "markdown",
   "metadata": {},
   "source": [
    "# Part 1"
   ]
  },
  {
   "cell_type": "code",
   "execution_count": 358,
   "metadata": {},
   "outputs": [
    {
     "name": "stdout",
     "output_type": "stream",
     "text": [
      "Part 1:  2517\n"
     ]
    }
   ],
   "source": [
    "# get all horizontal lines\n",
    "# get all vertical lines\n",
    "# get all diagonal lines\n",
    "\n",
    "# create of each line one string\n",
    "#check each line for xmas and smax\n",
    "\n",
    "xmasCounter = 0\n",
    "\n",
    "# regex\n",
    "pattern = r\"XMAS|SAMX\"\n",
    "\n",
    "#print(data)\n",
    "for i in range(len(data)):\n",
    "\n",
    "    verticalString = \"\"\n",
    "\n",
    "    # horizontal\n",
    "    matches = regex.findall(pattern, data[i], overlapped=True)\n",
    "    #print(matches)\n",
    "    xmasCounter += len(matches)\n",
    "\n",
    "    #vertical\n",
    "    for j in range(len(data[i])):\n",
    "        verticalString += data[j][i]   \n",
    "    matches = regex.findall(pattern, verticalString, overlapped=True)\n",
    "    #print(matches)\n",
    "    xmasCounter += len(matches)\n",
    "\n",
    "\n",
    "#diagonal up left to down right\n",
    "for i in range(len(data[0])*2):\n",
    "    diagonalString = \"\"\n",
    "\n",
    "    for j in range(i):\n",
    "        \n",
    "        if i <= len(data[0]):\n",
    "            #print(j, \" \", i-j-1)\n",
    "            diagonalString += data[j][i-j-1]\n",
    "        else:\n",
    "            if (len(data[0])-(j+(i-len(data[0])))) > 0:\n",
    "                #print(j+(i-len(data[0])), \" \", len(data[0])-(j+(i-len(data[0])))+(i-len(data[0]))-1)\n",
    "                diagonalString += data[j+(i-len(data[0]))][len(data[0])-(j+(i-len(data[0])))+(i-len(data[0]))-1]\n",
    "            else:\n",
    "                break\n",
    "            \n",
    "  \n",
    "    matches = regex.findall(pattern, diagonalString, overlapped=True)\n",
    "    #print(matches)\n",
    "    xmasCounter += len(matches)\n",
    "    #print(diagonalString)\n",
    "\n",
    "\n",
    "#diagonal down left to up right\n",
    "for i in range(len(data[0])*2):\n",
    "    diagonalString = \"\"\n",
    "\n",
    "    for j in range(i):\n",
    "        \n",
    "        if i <= len(data[0]):\n",
    "            #print(len(data [0])-j-1, \" \", i-j-1)\n",
    "            diagonalString += data[len(data [0])-1-j][i-j-1]   \n",
    "\n",
    "        else:\n",
    "            #print(\"len data\", len(data[0]))\n",
    "            #print(\"i\", i)\n",
    "            #print(\"j\", j)\n",
    "\n",
    "            if (len(data[0])-(j+(i-len(data[0])))) > 0:\n",
    "                #print(len(data [0])-1-j-(i-len(data[0])), \" \", len(data[0])-1-j)\n",
    "                diagonalString += data[len(data [0])-1-j-(i-len(data[0]))][len(data[0])-1-j]\n",
    "            else:\n",
    "                break\n",
    "  \n",
    "    matches = regex.findall(pattern, diagonalString, overlapped=True)\n",
    "    #print(matches)\n",
    "    xmasCounter += len(matches)\n",
    "    #print(diagonalString)    \n",
    "\n",
    "print(\"Part 1: \", xmasCounter)"
   ]
  },
  {
   "cell_type": "markdown",
   "metadata": {},
   "source": [
    "# Part 2"
   ]
  },
  {
   "cell_type": "code",
   "execution_count": 361,
   "metadata": {},
   "outputs": [
    {
     "name": "stdout",
     "output_type": "stream",
     "text": [
      "Part 2:  1960\n"
     ]
    }
   ],
   "source": [
    "charArray = []\n",
    "for line in data:\n",
    "    charArray.append(list(line))\n",
    "\n",
    "x = 1\n",
    "y = 1\n",
    "finished = False\n",
    "masCounter = 0\n",
    "\n",
    "#for _ in range(len(data)-2):\n",
    "while not finished:\n",
    "    #check if mas is applicable\n",
    "    #print(charArray[y][x])\n",
    "    if charArray[y][x] == 'A':\n",
    "        if (charArray[y-1][x-1] == \"M\" and charArray[y+1][x+1] == \"S\") or (charArray[y-1][x-1] == \"S\" and charArray[y+1][x+1] == \"M\"):\n",
    "            if (charArray[y+1][x-1] == \"M\" and charArray[y-1][x+1] == \"S\") or (charArray[y+1][x-1] == \"S\" and charArray[y-1][x+1] == \"M\"):\n",
    "                masCounter += 1\n",
    "    x += 1\n",
    "\n",
    "    # check if last position is reached\n",
    "    if x == len(data[0])-2 and x == y:\n",
    "        finished = True\n",
    "\n",
    "    #edge of the field\n",
    "    if x == len(data[0])-1:\n",
    "        x = 1\n",
    "        y += 1\n",
    "\n",
    "print(\"Part 2: \", masCounter)"
   ]
  },
  {
   "cell_type": "code",
   "execution_count": null,
   "metadata": {},
   "outputs": [],
   "source": []
  }
 ],
 "metadata": {
  "kernelspec": {
   "display_name": ".venv",
   "language": "python",
   "name": "python3"
  },
  "language_info": {
   "codemirror_mode": {
    "name": "ipython",
    "version": 3
   },
   "file_extension": ".py",
   "mimetype": "text/x-python",
   "name": "python",
   "nbconvert_exporter": "python",
   "pygments_lexer": "ipython3",
   "version": "3.12.3"
  }
 },
 "nbformat": 4,
 "nbformat_minor": 2
}
