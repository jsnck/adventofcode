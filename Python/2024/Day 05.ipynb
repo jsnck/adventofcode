{
 "cells": [
  {
   "cell_type": "code",
   "execution_count": 47,
   "metadata": {},
   "outputs": [],
   "source": [
    "import aocd\n",
    "\n",
    "data = \"\"\"47|53\n",
    "97|13\n",
    "97|61\n",
    "97|47\n",
    "75|29\n",
    "61|13\n",
    "75|53\n",
    "29|13\n",
    "97|29\n",
    "53|29\n",
    "61|53\n",
    "97|53\n",
    "61|29\n",
    "47|13\n",
    "75|47\n",
    "97|75\n",
    "47|61\n",
    "75|61\n",
    "47|29\n",
    "75|13\n",
    "53|13\n",
    "\n",
    "75,47,61,53,29\n",
    "97,61,53,29,13\n",
    "75,29,13\n",
    "75,97,47,61,53\n",
    "61,13,29\n",
    "97,13,75,29,47\"\"\"\n",
    "data = aocd.get_data(day=5, year=2024)\n",
    "\n",
    "data = data.split('\\n\\n')"
   ]
  },
  {
   "cell_type": "markdown",
   "metadata": {},
   "source": [
    "# Part 1"
   ]
  },
  {
   "cell_type": "code",
   "execution_count": 48,
   "metadata": {},
   "outputs": [
    {
     "name": "stdout",
     "output_type": "stream",
     "text": [
      "Part 1:  6034\n"
     ]
    }
   ],
   "source": [
    "#get the rules\n",
    "rulesRaw = data[0]\n",
    "rulesRaw = rulesRaw.split('\\n')\n",
    "\n",
    "rules = [[0] for _ in range(len(rulesRaw))]\n",
    "for i in range(len(rulesRaw)):\n",
    "    rules[i] = rulesRaw[i].split('|')\n",
    "#print(rules)\n",
    "\n",
    "#get the updates\n",
    "updatesRaw = data[1]\n",
    "updatesRaw = updatesRaw.split('\\n')\n",
    "\n",
    "updates = [[0] for _ in range(len(updatesRaw))]\n",
    "for i in range(len(updatesRaw)):\n",
    "    updates[i] = updatesRaw[i].split(',')\n",
    "#print(updates)\n",
    "\n",
    "# check if the rules are followed\n",
    "resultSum = 0\n",
    "\n",
    "for update in updates:\n",
    "    correctUpdate = True\n",
    "    for rule in rules:\n",
    "        #check if rule applies\n",
    "        if rule[0] in update and rule[1] in update:\n",
    "            #print(rule, \" \",update)\n",
    "            #print(update.index(rule[0]))\n",
    "            #check if first number is printed before the second (check if it is not correct)\n",
    "            if update.index(rule[0]) >= update.index(rule[1]):\n",
    "                correctUpdate = False\n",
    "                break\n",
    "    \n",
    "    if correctUpdate:\n",
    "        middle = int((len(update)-1)/2)\n",
    "        \n",
    "        resultSum += int(update[middle])\n",
    "\n",
    "print(\"Part 1: \", resultSum)\n"
   ]
  },
  {
   "cell_type": "markdown",
   "metadata": {},
   "source": [
    "# Part 2"
   ]
  },
  {
   "cell_type": "code",
   "execution_count": 50,
   "metadata": {},
   "outputs": [
    {
     "name": "stdout",
     "output_type": "stream",
     "text": [
      "Part 2:  6305\n"
     ]
    }
   ],
   "source": [
    "#get the rules\n",
    "rulesRaw = data[0]\n",
    "rulesRaw = rulesRaw.split('\\n')\n",
    "\n",
    "rules = [[0] for _ in range(len(rulesRaw))]\n",
    "for i in range(len(rulesRaw)):\n",
    "    rules[i] = rulesRaw[i].split('|')\n",
    "#print(rules)\n",
    "\n",
    "#get the updates\n",
    "updatesRaw = data[1]\n",
    "updatesRaw = updatesRaw.split('\\n')\n",
    "\n",
    "updates = [[0] for _ in range(len(updatesRaw))]\n",
    "for i in range(len(updatesRaw)):\n",
    "    updates[i] = updatesRaw[i].split(',')\n",
    "#print(updates)\n",
    "\n",
    "# check if the rules are followed\n",
    "resultSum = 0\n",
    "\n",
    "for update in updates:\n",
    "    correctUpdate = True\n",
    "    corrected = False\n",
    "    for rule in rules:\n",
    "        #check if rule applies\n",
    "        if rule[0] in update and rule[1] in update:\n",
    "            #print(rule, \" \",update)\n",
    "            #print(update.index(rule[0]))\n",
    "            #check if first number is printed before the second (check if it is not correct)\n",
    "            if update.index(rule[0]) >= update.index(rule[1]):\n",
    "                correctUpdate = False\n",
    "                corrected = True\n",
    "                break\n",
    "\n",
    "    while not correctUpdate:\n",
    "        #print(update)\n",
    "        correctUpdate = True\n",
    "        for rule in rules:\n",
    "            if rule[0] in update and rule[1] in update:\n",
    "                if update.index(rule[0]) >= update.index(rule[1]):\n",
    "                    correctUpdate = False\n",
    "                    tmpRule = update.index(rule[1])\n",
    "                    update[update.index(rule[0])] = rule[1]\n",
    "                    update[tmpRule] = rule[0]\n",
    "                    break\n",
    "    \n",
    "    if corrected:\n",
    "        middle = int((len(update)-1)/2)\n",
    "        \n",
    "        resultSum += int(update[middle])\n",
    "\n",
    "            \n",
    "\n",
    "print(\"Part 2: \", resultSum)"
   ]
  },
  {
   "cell_type": "code",
   "execution_count": null,
   "metadata": {},
   "outputs": [],
   "source": []
  }
 ],
 "metadata": {
  "kernelspec": {
   "display_name": ".venv",
   "language": "python",
   "name": "python3"
  },
  "language_info": {
   "codemirror_mode": {
    "name": "ipython",
    "version": 3
   },
   "file_extension": ".py",
   "mimetype": "text/x-python",
   "name": "python",
   "nbconvert_exporter": "python",
   "pygments_lexer": "ipython3",
   "version": "3.12.3"
  }
 },
 "nbformat": 4,
 "nbformat_minor": 2
}
