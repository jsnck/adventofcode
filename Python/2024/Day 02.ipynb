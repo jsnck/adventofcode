{
 "cells": [
  {
   "cell_type": "code",
   "execution_count": 1,
   "metadata": {},
   "outputs": [],
   "source": [
    "import aocd\n",
    "\n",
    "data = aocd.get_data(day=2, year=2024)\n",
    "#data = \"7 6 4 2 1\\n1 2 7 8 9\\n9 7 6 2 1\\n1 3 2 4 5\\n8 6 4 4 1\\n1 3 6 7 9\"\n",
    "data = data.split('\\n')"
   ]
  },
  {
   "cell_type": "markdown",
   "metadata": {},
   "source": [
    "# Part 1"
   ]
  },
  {
   "cell_type": "code",
   "execution_count": 2,
   "metadata": {},
   "outputs": [
    {
     "name": "stdout",
     "output_type": "stream",
     "text": [
      "Part 1:  314\n"
     ]
    }
   ],
   "source": [
    "safeReports = 0\n",
    "\n",
    "for line in data:\n",
    "\n",
    "    valid = True\n",
    "\n",
    "    line = line.split()\n",
    "\n",
    "    #ascending\n",
    "    if int(line[0]) < int(line[1]):\n",
    "        for i in range(len(line)-1):\n",
    "            if int(line[i]) < int(line[i+1]):\n",
    "                if (int(line[i+1]) - int(line[i])) < 1 or (int(line[i+1]) - int(line[i])) > 3:\n",
    "                    valid = False\n",
    "            else:\n",
    "                valid = False\n",
    "    \n",
    "    #descending\n",
    "    elif int(line[0]) > int(line[1]):\n",
    "        for i in range(len(line)-1):\n",
    "            if int(line[i]) > int(line[i+1]):\n",
    "                if (int(line[i]) - int(line[i+1])) < 1 or (int(line[i]) - int(line[i+1])) > 3:\n",
    "                    valid = False\n",
    "            else:\n",
    "                valid = False\n",
    "\n",
    "    elif int(line[0]) == int(line[1]):\n",
    "        valid = False\n",
    "\n",
    "    if valid:\n",
    "        safeReports += 1\n",
    "\n",
    "print(\"Part 1: \", safeReports)\n"
   ]
  },
  {
   "cell_type": "markdown",
   "metadata": {},
   "source": [
    "# Part 2"
   ]
  },
  {
   "cell_type": "code",
   "execution_count": 3,
   "metadata": {},
   "outputs": [
    {
     "name": "stdout",
     "output_type": "stream",
     "text": [
      "Part 2:  373\n"
     ]
    }
   ],
   "source": [
    "safeReports = 0\n",
    "\n",
    "for lineOG in data:\n",
    "\n",
    "    errorCount = 0\n",
    "    lineOG = lineOG.split()\n",
    "\n",
    "    for j in range(len(lineOG)+1):\n",
    "\n",
    "        if j > 0:\n",
    "            line = lineOG[:j-1] + lineOG[j:]\n",
    "        else:\n",
    "            line = lineOG\n",
    "\n",
    "        valid = True\n",
    "\n",
    "        #ascending\n",
    "        if int(line[0]) < int(line[1]):\n",
    "            for i in range(len(line)-1):\n",
    "                if int(line[i]) < int(line[i+1]):\n",
    "                    if (int(line[i+1]) - int(line[i])) < 1 or (int(line[i+1]) - int(line[i])) > 3:\n",
    "                        valid = False\n",
    "                else:\n",
    "                    valid = False\n",
    "        \n",
    "        #descending\n",
    "        elif int(line[0]) > int(line[1]):\n",
    "            for i in range(len(line)-1):\n",
    "                if int(line[i]) > int(line[i+1]):\n",
    "                    if (int(line[i]) - int(line[i+1])) < 1 or (int(line[i]) - int(line[i+1])) > 3:\n",
    "                        valid = False\n",
    "                else:\n",
    "                    valid = False\n",
    "\n",
    "        elif int(line[0]) == int(line[1]):\n",
    "            valid = False\n",
    "\n",
    "        if not valid:\n",
    "            errorCount+=1\n",
    "        elif valid:\n",
    "            break\n",
    "            \n",
    "    if valid:\n",
    "        safeReports+= 1\n",
    "\n",
    "print(\"Part 2: \", safeReports)"
   ]
  },
  {
   "cell_type": "code",
   "execution_count": null,
   "metadata": {},
   "outputs": [],
   "source": []
  }
 ],
 "metadata": {
  "kernelspec": {
   "display_name": ".venv",
   "language": "python",
   "name": "python3"
  },
  "language_info": {
   "codemirror_mode": {
    "name": "ipython",
    "version": 3
   },
   "file_extension": ".py",
   "mimetype": "text/x-python",
   "name": "python",
   "nbconvert_exporter": "python",
   "pygments_lexer": "ipython3",
   "version": "3.12.3"
  }
 },
 "nbformat": 4,
 "nbformat_minor": 2
}
