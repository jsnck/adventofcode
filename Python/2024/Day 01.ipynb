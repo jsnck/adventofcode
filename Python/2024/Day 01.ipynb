{
 "cells": [
  {
   "cell_type": "markdown",
   "metadata": {},
   "source": [
    "# Imports and Data"
   ]
  },
  {
   "cell_type": "code",
   "execution_count": 1,
   "metadata": {},
   "outputs": [],
   "source": [
    "import aocd\n",
    "\n",
    "data = aocd.get_data(day=1, year=2024)\n",
    "data = data.split('\\n')"
   ]
  },
  {
   "cell_type": "markdown",
   "metadata": {},
   "source": [
    "# Part 1"
   ]
  },
  {
   "cell_type": "code",
   "execution_count": 2,
   "metadata": {},
   "outputs": [
    {
     "name": "stdout",
     "output_type": "stream",
     "text": [
      "Part 1:  3246517\n"
     ]
    }
   ],
   "source": [
    "listOne = []\n",
    "listTwo = []\n",
    "distance = 0\n",
    "\n",
    "for line in data:\n",
    "    line = line.split()\n",
    "    listOne.append(line[0])\n",
    "    listTwo.append(line[1])\n",
    "\n",
    "listOne.sort()\n",
    "listTwo.sort()\n",
    "\n",
    "for i in range (len(listOne)):\n",
    "    tmp = int(listOne[i]) - int(listTwo[i])\n",
    "    if tmp < 0:\n",
    "        tmp*=-1\n",
    "    distance += tmp\n",
    "\n",
    "print(\"Part 1: \", distance)\n"
   ]
  },
  {
   "cell_type": "markdown",
   "metadata": {},
   "source": [
    "# Part 2"
   ]
  },
  {
   "cell_type": "code",
   "execution_count": 3,
   "metadata": {},
   "outputs": [
    {
     "name": "stdout",
     "output_type": "stream",
     "text": [
      "Part 2:  29379307\n"
     ]
    }
   ],
   "source": [
    "listOne = []\n",
    "listTwo = []\n",
    "similarity = 0\n",
    "\n",
    "for line in data:\n",
    "    line = line.split()\n",
    "    listOne.append(line[0])\n",
    "    listTwo.append(line[1])\n",
    "\n",
    "for i in range (len(listOne)):\n",
    "    similarity += (int(listOne[i]) * listTwo.count(listOne[i]))\n",
    "\n",
    "print(\"Part 2: \", similarity)"
   ]
  },
  {
   "cell_type": "code",
   "execution_count": null,
   "metadata": {},
   "outputs": [],
   "source": []
  }
 ],
 "metadata": {
  "kernelspec": {
   "display_name": ".venv",
   "language": "python",
   "name": "python3"
  },
  "language_info": {
   "codemirror_mode": {
    "name": "ipython",
    "version": 3
   },
   "file_extension": ".py",
   "mimetype": "text/x-python",
   "name": "python",
   "nbconvert_exporter": "python",
   "pygments_lexer": "ipython3",
   "version": "3.12.3"
  }
 },
 "nbformat": 4,
 "nbformat_minor": 2
}
