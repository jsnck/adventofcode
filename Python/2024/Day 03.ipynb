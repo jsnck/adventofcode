{
 "cells": [
  {
   "cell_type": "code",
   "execution_count": 1,
   "metadata": {},
   "outputs": [],
   "source": [
    "import aocd\n",
    "import re\n",
    "\n",
    "data = aocd.get_data(day=3, year=2024)\n",
    "#data = \"xmul(2,4)&mul[3,7]!^don't()_mul(5,5)+mul(32,64](mul(11,8)undo()?mul(8,5))\"\n",
    "#data = data.split('\\n')"
   ]
  },
  {
   "cell_type": "markdown",
   "metadata": {},
   "source": [
    "# Part 1"
   ]
  },
  {
   "cell_type": "code",
   "execution_count": 2,
   "metadata": {},
   "outputs": [
    {
     "name": "stdout",
     "output_type": "stream",
     "text": [
      "Part 1:  179834255\n"
     ]
    }
   ],
   "source": [
    "result = 0\n",
    "\n",
    "# regex\n",
    "pattern = r\"mul\\(\\d{1,3},\\d{1,3}\\)\"\n",
    "\n",
    "# find all correct instructions\n",
    "matches = re.findall(pattern, data)\n",
    "\n",
    "\n",
    "for match in matches:\n",
    "    # delete everything except the numbers separated by ,\n",
    "    match = re.sub(r\"[^0-9,]\", \"\", match)\n",
    "    #split by , to get the numbers\n",
    "    match = match.split(\",\")\n",
    "    # multiply the numbers and add to the result\n",
    "    result += int(match[0])*int(match[1])\n",
    "\n",
    "print(\"Part 1: \", result)"
   ]
  },
  {
   "cell_type": "markdown",
   "metadata": {},
   "source": [
    "# Part 2"
   ]
  },
  {
   "cell_type": "code",
   "execution_count": 3,
   "metadata": {},
   "outputs": [
    {
     "name": "stdout",
     "output_type": "stream",
     "text": [
      "Part 2:  80570939\n"
     ]
    }
   ],
   "source": [
    "result = 0\n",
    "enabled = True\n",
    "\n",
    "# regex\n",
    "pattern = r\"mul\\(\\d{1,3},\\d{1,3}\\)|do\\(\\)|don't\\(\\)\"\n",
    "\n",
    "# find all correct instructions\n",
    "matches = re.findall(pattern, data)\n",
    "\n",
    "for match in matches:\n",
    "    if match == \"do()\":\n",
    "        enabled = True\n",
    "    elif match == \"don't()\":\n",
    "        enabled = False\n",
    "    else:\n",
    "        if enabled == True:\n",
    "            # delete everything except the numbers separated by ,\n",
    "            match = re.sub(r\"[^0-9,]\", \"\", match)\n",
    "            #split by , to get the numbers\n",
    "            match = match.split(\",\")\n",
    "            # multiply the numbers and add to the result\n",
    "            result += int(match[0])*int(match[1])\n",
    "\n",
    "print(\"Part 2: \", result)"
   ]
  },
  {
   "cell_type": "code",
   "execution_count": null,
   "metadata": {},
   "outputs": [],
   "source": []
  }
 ],
 "metadata": {
  "kernelspec": {
   "display_name": ".venv",
   "language": "python",
   "name": "python3"
  },
  "language_info": {
   "codemirror_mode": {
    "name": "ipython",
    "version": 3
   },
   "file_extension": ".py",
   "mimetype": "text/x-python",
   "name": "python",
   "nbconvert_exporter": "python",
   "pygments_lexer": "ipython3",
   "version": "3.12.3"
  }
 },
 "nbformat": 4,
 "nbformat_minor": 2
}
